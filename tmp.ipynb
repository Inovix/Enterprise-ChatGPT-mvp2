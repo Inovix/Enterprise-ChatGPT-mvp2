{
 "cells": [
  {
   "cell_type": "code",
   "execution_count": 3,
   "metadata": {},
   "outputs": [],
   "source": [
    "import json\n",
    "import requests\n",
    "from pprint import pprint\n",
    "import openai\n",
    "import os\n",
    "from langchain.llms.openai import AzureOpenAI\n",
    "import random\n",
    "USE_AZURE_OPENAI = os.environ.get(\"USE_AZURE_OPENAI\") or True\n",
    "AZURE_OPENAI_GPT_DEPLOYMENT = os.environ.get(\n",
    "    \"AZURE_OPENAI_GPT_DEPLOYMENT\") or \"text-davinci-003\"\n",
    "AZURE_OPENAI_CHATGPT_DEPLOYMENT = os.environ.get(\n",
    "    \"AZURE_OPENAI_CHATGPT_DEPLOYMENT\") or \"gpt-35-turbo\"\n",
    "AZURE_OPENAI_SERVICE_1 = os.environ.get(\"AZURE_OPENAI_SERVICE_1\") or \"apac-csu-aoai-eastus-2\"\n",
    "AZURE_OPENAI_SERVICE_1_KEY = os.environ.get(\"AZURE_OPENAI_SERVICE_1_KEY\") or \"7cc6a0ee5c43488a8126e9cb3c4ab4ae\"\n",
    "AZURE_OPENAI_SERVICE_2 = os.environ.get(\"AZURE_OPENAI_SERVICE_2\") or \"apac-csu-aoai-southcentralus-2\"\n",
    "AZURE_OPENAI_SERVICE_2_KEY = os.environ.get(\"AZURE_OPENAI_SERVICE_2_KEY\") or \"340bcce4c1cf4b5a9668e4f2401e200f\"\n",
    "AZURE_OPENAI_SERVICE_3 = os.environ.get(\"AZURE_OPENAI_SERVICE_3\") or \"apac-csu-aoai-westeu-2\"\n",
    "AZURE_OPENAI_SERVICE_3_KEY = os.environ.get(\"AZURE_OPENAI_SERVICE_3_KEY\") or \"9aa63d7f87f74681969ec774c91e6e03\"\n",
    "AZURE_OPENAI_DEFAULT_TEMP = os.environ.get(\"AZURE_OPENAI_DEFAULT_TEMP\") or 0"
   ]
  },
  {
   "cell_type": "code",
   "execution_count": 4,
   "metadata": {},
   "outputs": [],
   "source": [
    "api_endpoints = [\n",
    "    {\"base_url\": f\"https://{AZURE_OPENAI_SERVICE_1}.openai.azure.com/deployments\", \"key\": f\"{AZURE_OPENAI_SERVICE_1_KEY}\"},\n",
    "    {\"base_url\": f\"https://{AZURE_OPENAI_SERVICE_2}.openai.azure.com/deployments\", \"key\": f\"{AZURE_OPENAI_SERVICE_2_KEY}\"},\n",
    "    {\"base_url\": f\"https://{AZURE_OPENAI_SERVICE_3}.openai.azure.com/deployments\", \"key\": f\"{AZURE_OPENAI_SERVICE_3_KEY}\"},\n",
    "]\n",
    "\n",
    "# Define a function to get a random endpoint from the list\n",
    "def get_random_endpoint():\n",
    "    return random.choice(api_endpoints)"
   ]
  },
  {
   "cell_type": "code",
   "execution_count": 9,
   "metadata": {},
   "outputs": [
    {
     "data": {
      "text/plain": [
       "{'base_url': 'https://apac-csu-aoai-southcentralus-2.openai.azure.com/deployments',\n",
       " 'key': '340bcce4c1cf4b5a9668e4f2401e200f'}"
      ]
     },
     "execution_count": 9,
     "metadata": {},
     "output_type": "execute_result"
    }
   ],
   "source": [
    "get_random_endpoint()"
   ]
  },
  {
   "cell_type": "code",
   "execution_count": 11,
   "metadata": {},
   "outputs": [],
   "source": [
    "global index\n",
    "index = 0\n",
    "if USE_AZURE_OPENAI:\n",
    "    # Used by the OpenAI SDK to authenticate\n",
    "    openai.api_type = \"azure\"\n",
    "    # openai.api_base = f\"https://{AZURE_OPENAI_SERVICE}.openai.azure.com\"\n",
    "    openai.api_version = \"2023-03-15-preview\"\n",
    "    llm_gpt_01 = AzureOpenAI(deployment_name=f\"https://{AZURE_OPENAI_SERVICE_1}.openai.azure.com/deployments/{AZURE_OPENAI_GPT_DEPLOYMENT}\", temperature=f\"{AZURE_OPENAI_DEFAULT_TEMP}\", openai_api_key=AZURE_OPENAI_SERVICE_1_KEY) # type: ignore\n",
    "    llm_gpt_02 = AzureOpenAI(deployment_name=f\"https://{AZURE_OPENAI_SERVICE_2}.openai.azure.com/deployments/{AZURE_OPENAI_GPT_DEPLOYMENT}\", temperature=f\"{AZURE_OPENAI_DEFAULT_TEMP}\", openai_api_key=AZURE_OPENAI_SERVICE_2_KEY) # type: ignore\n",
    "    llm_gpt_03 = AzureOpenAI(deployment_name=f\"https://{AZURE_OPENAI_SERVICE_3}.openai.azure.com/deployments/{AZURE_OPENAI_GPT_DEPLOYMENT}\", temperature=f\"{AZURE_OPENAI_DEFAULT_TEMP}\", openai_api_key=AZURE_OPENAI_SERVICE_3_KEY) # type: ignore\n",
    "\n",
    "    llm_chat_gpt_01 = AzureOpenAI(deployment_name=f\"https://{AZURE_OPENAI_SERVICE_1}.openai.azure.com/deployments/{AZURE_OPENAI_CHATGPT_DEPLOYMENT}\", temperature=f\"{AZURE_OPENAI_DEFAULT_TEMP}\", openai_api_key=AZURE_OPENAI_SERVICE_1_KEY) # type: ignore\n",
    "    llm_chat_gpt_02 = AzureOpenAI(deployment_name=f\"https://{AZURE_OPENAI_SERVICE_2}.openai.azure.com/deployments/{AZURE_OPENAI_CHATGPT_DEPLOYMENT}\", temperature=f\"{AZURE_OPENAI_DEFAULT_TEMP}\", openai_api_key=AZURE_OPENAI_SERVICE_2_KEY) # type: ignore\n",
    "    llm_chat_gpt_03 = AzureOpenAI(deployment_name=f\"https://{AZURE_OPENAI_SERVICE_3}.openai.azure.com/deployments/{AZURE_OPENAI_CHATGPT_DEPLOYMENT}\", temperature=f\"{AZURE_OPENAI_DEFAULT_TEMP}\", openai_api_key=AZURE_OPENAI_SERVICE_3_KEY) # type: ignore\n",
    "\n",
    "    llm_gpt = [llm_gpt_01, llm_gpt_02, llm_gpt_03]\n",
    "    llm_chat_gpt = [llm_chat_gpt_01, llm_chat_gpt_02, llm_chat_gpt_03]\n",
    "\n",
    "    # round robin across the three services from the list above\n",
    "    def select_client(clients, index):\n",
    "        \"\"\"\n",
    "        Selects a client from the list of clients based on round-robin scheduling.\n",
    "        \"\"\"\n",
    "        return clients[index % len(clients)]\n",
    "    \n",
    "    gpt_client = select_client(llm_gpt, index)\n",
    "    chat_client = select_client(llm_chat_gpt, index)\n",
    "    index += 1\n",
    "    \n",
    "else:\n",
    "    pass"
   ]
  },
  {
   "cell_type": "code",
   "execution_count": 2,
   "metadata": {},
   "outputs": [],
   "source": [
    "# Define the names for the data source, skillset, index and indexer\n",
    "datasource_name = \"cogsrch-py-datasource\"\n",
    "skillset_name = \"cogsrch-py-skillset\"\n",
    "index_name = \"cogsrch-py-index\"\n",
    "indexer_name = \"cogsrch-py-indexer\""
   ]
  },
  {
   "cell_type": "code",
   "execution_count": 3,
   "metadata": {},
   "outputs": [],
   "source": [
    "# Setup the endpoint\n",
    "endpoint = 'https://gptkb-y2nmeuebipp4i.search.windows.net/'\n",
    "headers = {'Content-Type': 'application/json',\n",
    "           'api-key': 'OlNKmdGhVIHW1obCUGltQ4uGYgwk85AsvJ64FO25sKAzSeCuTbYz'}\n",
    "params = {\n",
    "    'api-version': '2020-06-30'\n",
    "}"
   ]
  },
  {
   "cell_type": "code",
   "execution_count": 4,
   "metadata": {},
   "outputs": [
    {
     "name": "stdout",
     "output_type": "stream",
     "text": [
      "201\n"
     ]
    }
   ],
   "source": [
    "# Create a data source\n",
    "datasourceConnectionString = \"DefaultEndpointsProtocol=https;AccountName=demofailover001;AccountKey=pdvCMTqygniVz5f+9AK+/qiDZzXYQ8iq+XRPnYlT84oHz4K6xteyyTKvyu/H7T0Vw+U9lS/ynIlH+ASts9eFXg==;EndpointSuffix=core.windows.net\"\n",
    "datasource_payload = {\n",
    "    \"name\": datasource_name,\n",
    "    \"description\": \"Demo files to demonstrate cognitive search capabilities.\",\n",
    "    \"type\": \"azureblob\",\n",
    "    \"credentials\": {\n",
    "        \"connectionString\": datasourceConnectionString\n",
    "    },\n",
    "    \"container\": {\n",
    "        \"name\": \"container1\"\n",
    "    }\n",
    "}\n",
    "r = requests.put(endpoint + \"/datasources/\" + datasource_name,\n",
    "                 data=json.dumps(datasource_payload), headers=headers, params=params)\n",
    "print(r.status_code)"
   ]
  },
  {
   "cell_type": "code",
   "execution_count": 5,
   "metadata": {},
   "outputs": [
    {
     "name": "stdout",
     "output_type": "stream",
     "text": [
      "201\n"
     ]
    }
   ],
   "source": [
    "# Create a skillset\n",
    "skillset_payload = {\n",
    "    \"name\": skillset_name,\n",
    "    \"description\":\n",
    "    \"Extract entities, detect language and extract key-phrases\",\n",
    "    \"skills\":\n",
    "    [\n",
    "        {\n",
    "            \"@odata.type\": \"#Microsoft.Skills.Text.V3.EntityRecognitionSkill\",\n",
    "            \"categories\": [\"Organization\"],\n",
    "            \"defaultLanguageCode\": \"en\",\n",
    "            \"inputs\": [\n",
    "                {\n",
    "                    \"name\": \"text\", \n",
    "                    \"source\": \"/document/content\"\n",
    "                }\n",
    "            ],\n",
    "            \"outputs\": [\n",
    "                {\n",
    "                    \"name\": \"organizations\", \n",
    "                    \"targetName\": \"organizations\"\n",
    "                }\n",
    "            ]\n",
    "        },\n",
    "        {\n",
    "            \"@odata.type\": \"#Microsoft.Skills.Text.LanguageDetectionSkill\",\n",
    "            \"inputs\": [\n",
    "                {\n",
    "                    \"name\": \"text\", \n",
    "                    \"source\": \"/document/content\"\n",
    "                }\n",
    "            ],\n",
    "            \"outputs\": [\n",
    "                {\n",
    "                    \"name\": \"languageCode\",\n",
    "                    \"targetName\": \"languageCode\"\n",
    "                }\n",
    "            ]\n",
    "        },\n",
    "        {\n",
    "            \"@odata.type\": \"#Microsoft.Skills.Text.SplitSkill\",\n",
    "            \"textSplitMode\": \"pages\",\n",
    "            \"maximumPageLength\": 4000,\n",
    "            \"inputs\": [\n",
    "                {\n",
    "                    \"name\": \"text\",\n",
    "                    \"source\": \"/document/content\"\n",
    "                },\n",
    "                {\n",
    "                    \"name\": \"languageCode\",\n",
    "                    \"source\": \"/document/languageCode\"\n",
    "                }\n",
    "            ],\n",
    "            \"outputs\": [\n",
    "                {\n",
    "                    \"name\": \"textItems\",\n",
    "                    \"targetName\": \"pages\"\n",
    "                }\n",
    "            ]\n",
    "        },\n",
    "        {\n",
    "            \"@odata.type\": \"#Microsoft.Skills.Text.KeyPhraseExtractionSkill\",\n",
    "            \"context\": \"/document/pages/*\",\n",
    "            \"inputs\": [\n",
    "                {\n",
    "                    \"name\": \"text\", \n",
    "                    \"source\": \"/document/pages/*\"\n",
    "                },\n",
    "                {\n",
    "                    \"name\": \"languageCode\", \n",
    "                    \"source\": \"/document/languageCode\"\n",
    "                }\n",
    "            ],\n",
    "            \"outputs\": [\n",
    "                {\n",
    "                    \"name\": \"keyPhrases\",\n",
    "                    \"targetName\": \"keyPhrases\"\n",
    "                }\n",
    "            ]\n",
    "        }\n",
    "    ]\n",
    "}\n",
    "\n",
    "r = requests.put(endpoint + \"/skillsets/\" + skillset_name,\n",
    "                 data=json.dumps(skillset_payload), headers=headers, params=params)\n",
    "print(r.status_code)"
   ]
  },
  {
   "cell_type": "code",
   "execution_count": 6,
   "metadata": {},
   "outputs": [
    {
     "name": "stdout",
     "output_type": "stream",
     "text": [
      "201\n"
     ]
    }
   ],
   "source": [
    "# Create an index\n",
    "index_payload = {\n",
    "    \"name\": index_name,\n",
    "    \"fields\": [\n",
    "        {\n",
    "            \"name\": \"id\",\n",
    "            \"type\": \"Edm.String\",\n",
    "            \"key\": \"true\",\n",
    "            \"searchable\": \"true\",\n",
    "            \"filterable\": \"false\",\n",
    "            \"facetable\": \"false\",\n",
    "            \"sortable\": \"true\"\n",
    "        },\n",
    "        {\n",
    "            \"name\": \"content\",\n",
    "            \"type\": \"Edm.String\",\n",
    "            \"sortable\": \"false\",\n",
    "            \"searchable\": \"true\",\n",
    "            \"filterable\": \"false\",\n",
    "            \"facetable\": \"false\"\n",
    "        },\n",
    "        {\n",
    "            \"name\": \"languageCode\",\n",
    "            \"type\": \"Edm.String\",\n",
    "            \"searchable\": \"true\",\n",
    "            \"filterable\": \"false\",\n",
    "            \"facetable\": \"false\"\n",
    "        },\n",
    "        {\n",
    "            \"name\": \"keyPhrases\",\n",
    "            \"type\": \"Collection(Edm.String)\",\n",
    "            \"searchable\": \"true\",\n",
    "            \"filterable\": \"false\",\n",
    "            \"facetable\": \"false\"\n",
    "        },\n",
    "        {\n",
    "            \"name\": \"organizations\",\n",
    "            \"type\": \"Collection(Edm.String)\",\n",
    "            \"searchable\": \"true\",\n",
    "            \"sortable\": \"false\",\n",
    "            \"filterable\": \"false\",\n",
    "            \"facetable\": \"false\"\n",
    "        }\n",
    "    ]\n",
    "}\n",
    "\n",
    "r = requests.put(endpoint + \"/indexes/\" + index_name,\n",
    "                 data=json.dumps(index_payload), headers=headers, params=params)\n",
    "print(r.status_code)"
   ]
  },
  {
   "cell_type": "code",
   "execution_count": 8,
   "metadata": {},
   "outputs": [
    {
     "name": "stdout",
     "output_type": "stream",
     "text": [
      "201\n"
     ]
    }
   ],
   "source": [
    "# Create an indexer\n",
    "indexer_payload = {\n",
    "    \"name\": indexer_name,\n",
    "    \"dataSourceName\": datasource_name,\n",
    "    \"targetIndexName\": index_name,\n",
    "    \"skillsetName\": skillset_name,\n",
    "    \"fieldMappings\": [\n",
    "        {\n",
    "            \"sourceFieldName\": \"metadata_storage_path\",\n",
    "            \"targetFieldName\": \"id\",\n",
    "            \"mappingFunction\":\n",
    "            {\"name\": \"base64Encode\"}\n",
    "        },\n",
    "        {\n",
    "            \"sourceFieldName\": \"content\",\n",
    "            \"targetFieldName\": \"content\"\n",
    "        }\n",
    "    ],\n",
    "    \"outputFieldMappings\":\n",
    "    [\n",
    "        {\n",
    "            \"sourceFieldName\": \"/document/organizations\",\n",
    "            \"targetFieldName\": \"organizations\"\n",
    "        },\n",
    "        {\n",
    "            \"sourceFieldName\": \"/document/pages/*/keyPhrases/*\",\n",
    "            \"targetFieldName\": \"keyPhrases\"\n",
    "        },\n",
    "        {\n",
    "            \"sourceFieldName\": \"/document/languageCode\",\n",
    "            \"targetFieldName\": \"languageCode\"\n",
    "        }\n",
    "    ],\n",
    "    \"parameters\":\n",
    "    {\n",
    "        \"maxFailedItems\": -1,\n",
    "        \"maxFailedItemsPerBatch\": -1,\n",
    "        \"configuration\":\n",
    "        {\n",
    "            \"dataToExtract\": \"contentAndMetadata\",\n",
    "            \"imageAction\": \"generateNormalizedImages\"\n",
    "        }\n",
    "    }\n",
    "}\n",
    "\n",
    "r = requests.put(endpoint + \"/indexers/\" + indexer_name,\n",
    "                 data=json.dumps(indexer_payload), headers=headers, params=params)\n",
    "print(r.status_code)"
   ]
  },
  {
   "cell_type": "code",
   "execution_count": null,
   "metadata": {},
   "outputs": [],
   "source": []
  }
 ],
 "metadata": {
  "kernelspec": {
   "display_name": "entchatbackend",
   "language": "python",
   "name": "python3"
  },
  "language_info": {
   "codemirror_mode": {
    "name": "ipython",
    "version": 3
   },
   "file_extension": ".py",
   "mimetype": "text/x-python",
   "name": "python",
   "nbconvert_exporter": "python",
   "pygments_lexer": "ipython3",
   "version": "3.10.10"
  },
  "orig_nbformat": 4
 },
 "nbformat": 4,
 "nbformat_minor": 2
}
